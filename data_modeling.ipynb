{
  "nbformat": 4,
  "nbformat_minor": 0,
  "metadata": {
    "colab": {
      "provenance": []
    },
    "kernelspec": {
      "name": "python3",
      "display_name": "Python 3"
    },
    "language_info": {
      "name": "python"
    }
  },
  "cells": [
    {
      "cell_type": "code",
      "source": [
        "import pandas as pd\n",
        "from sklearn.model_selection import train_test_split\n",
        "from sklearn.ensemble import RandomForestRegressor\n",
        "from sklearn.metrics import mean_squared_error, r2_score\n",
        "#All the important Libraries\n",
        "import pandas as pd\n",
        "import numpy as np\n",
        "from sklearn.preprocessing import OneHotEncoder\n",
        "#The Data File\n",
        "df = pd.read_csv('price-range-of-hdb-flats-offered.csv')\n",
        "# Extract the \"room_type\" column\n",
        "room_type = df['room_type']\n",
        "\n",
        "# Apply one-hot encoding to \"room_type\"\n",
        "encoder = OneHotEncoder()\n",
        "room_type_encoded = encoder.fit_transform(room_type.values.reshape(-1, 1))\n",
        "\n",
        "# Add the encoded features back to the DataFrame\n",
        "room_type_encoded_df = pd.DataFrame(room_type_encoded.toarray(), columns=encoder.get_feature_names_out(['room_type']))\n",
        "rooms = room_type_encoded_df\n",
        "df = pd.concat([df, rooms], axis=1)\n",
        "\n",
        "# Drop the original \"room_type\" column\n",
        "df = df.drop('room_type', axis=1)\n",
        "\n",
        "# Save the modified DataFrame to a new CSV file\n",
        "df.to_csv('encoded_data.csv', index=False)\n",
        "\n",
        "# Encode the categorical variable(s), if any\n",
        "df = pd.get_dummies(df, columns=['town'])\n",
        "\n",
        "# Split the data into training and testing sets\n",
        "X = df.drop(['max_selling_price'], axis=1)\n",
        "y = df['max_selling_price']\n",
        "X_train, X_test, y_train, y_test = train_test_split(X, y, test_size=0.2, random_state=42)\n",
        "\n",
        "# Scale the data, if needed\n",
        "# scaler = StandardScaler()\n",
        "# X_train = scaler.fit_transform(X_train)\n",
        "# X_test = scaler.transform(X_test)\n",
        "\n",
        "# Create a Random Forest model\n",
        "rf = RandomForestRegressor(n_estimators=100, max_depth=10, min_samples_split=5)\n",
        "\n",
        "# Train the Random Forest model\n",
        "rf.fit(X_train, y_train)\n",
        "\n",
        "# Evaluate the performance of the Random Forest model\n",
        "y_pred = rf.predict(X_test)\n",
        "mse = mean_squared_error(y_test, y_pred)\n",
        "r2 = r2_score(y_test, y_pred)\n",
        "print('MSE:', mse)\n",
        "print('R^2:', r2)"
      ],
      "metadata": {
        "colab": {
          "base_uri": "https://localhost:8080/"
        },
        "id": "Oo8yY6MycHRk",
        "outputId": "439f2303-0c8d-468e-9dc3-e73ac3841e1f"
      },
      "execution_count": 3,
      "outputs": [
        {
          "output_type": "stream",
          "name": "stdout",
          "text": [
            "MSE: 238762067.73386234\n",
            "R^2: 0.9863070886803009\n"
          ]
        }
      ]
    },
    {
      "cell_type": "markdown",
      "source": [
        "The MSE (Mean Squared Error) value of 236,853,155.40 suggests that on average, the model's predictions are off by approximately $486,7.34 (sqrt(236853155.40)). Whether or not this is a good score depends on the context of the problem and the domain-specific knowledge.\n",
        "\n",
        "Similarly, the R^2 (coefficient of determination) value of 0.986 indicates that the model explains 98.6% of the variation in the data, which is considered a very good fit. "
      ],
      "metadata": {
        "id": "7K5pOP7UcjJK"
      }
    },
    {
      "cell_type": "code",
      "source": [
        "# Collect information about the house features\n",
        "financial_year = 2010\n",
        "town = 'Ang Mo Kio'\n",
        "min_selling_price = 120000\n",
        "max_selling_price_less_ahg_shg = 0\n",
        "room_type_2room = 0\n",
        "room_type_3room = 1\n",
        "room_type_4room = 0\n",
        "room_type_5room = 0\n",
        "\n",
        "# Create a DataFrame with the house features\n",
        "house_features = pd.DataFrame({'financial_year': [financial_year],\n",
        "                               'town_' + town: [1],\n",
        "                               'min_selling_price': [min_selling_price],\n",
        "                               'min_selling_price_less_ahg_shg': [max_selling_price_less_ahg_shg],\n",
        "                               'room_type_2-room': [room_type_2room],\n",
        "                               'room_type_3-room': [room_type_3room],\n",
        "                               'room_type_4-room': [room_type_4room],\n",
        "                               'room_type_5-room': [room_type_5room]})\n",
        "\n",
        "# Ensure that the feature names match the names used during training\n",
        "house_features = house_features.reindex(columns=X_train.columns, fill_value=0)\n",
        "\n",
        "# Use the trained Random Forest model to predict the maximum selling price\n",
        "predicted_max_selling_price = rf.predict(house_features)\n",
        "\n",
        "# Print the predicted maximum selling price\n",
        "print('Predicted maximum selling price:', predicted_max_selling_price)"
      ],
      "metadata": {
        "colab": {
          "base_uri": "https://localhost:8080/"
        },
        "id": "JXyJCfngcgPk",
        "outputId": "4070ce6c-0851-4b3d-bf82-787bea5b9124"
      },
      "execution_count": 4,
      "outputs": [
        {
          "output_type": "stream",
          "name": "stdout",
          "text": [
            "Predicted maximum selling price: [166779.24080087]\n"
          ]
        }
      ]
    }
  ]
}